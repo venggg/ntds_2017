{
 "cells": [
  {
   "cell_type": "markdown",
   "metadata": {},
   "source": [
    "# NTDS demo 1: Introduction\n",
    "[Michaël Defferrard](http://deff.ch), *PhD student*, [EPFL](http://epfl.ch) [LTS2](http://lts2.epfl.ch)"
   ]
  },
  {
   "cell_type": "markdown",
   "metadata": {},
   "source": [
    "## Content\n",
    "\n",
    "1. [Conda and Anaconda](#conda)\n",
    "1. [Python](#python)\n",
    "1. [Jupyter notebooks](#jupyter)\n",
    "1. [Version control with git](#git)\n",
    "1. [Scientific Python](#scipy)"
   ]
  },
  {
   "cell_type": "markdown",
   "metadata": {},
   "source": [
    "<a id='conda'></a>\n",
    "## 1 Conda and Anaconda\n",
    "\n",
    "[Conda](https://conda.io) is a package and environment manager. It allows you to create environements, ideally one per project, and install packages into it. It is available for Windows, macOS and Linux.\n",
    "\n",
    "[Anaconda](https://anaconda.org) is a distribution which comes with many of the packages used by data scientists."
   ]
  },
  {
   "cell_type": "markdown",
   "metadata": {},
   "source": [
    "You can list your environments:"
   ]
  },
  {
   "cell_type": "code",
   "execution_count": 1,
   "metadata": {},
   "outputs": [
    {
     "name": "stdout",
     "output_type": "stream",
     "text": [
      "# conda environments:\r\n",
      "#\r\n",
      "test                     /home/michael/.conda/envs/test\r\n",
      "root                  *  /usr\r\n",
      "\r\n"
     ]
    }
   ],
   "source": [
    "!conda info --envs"
   ]
  },
  {
   "cell_type": "markdown",
   "metadata": {},
   "source": [
    "List the packages in an environment:"
   ]
  },
  {
   "cell_type": "code",
   "execution_count": 2,
   "metadata": {},
   "outputs": [
    {
     "name": "stdout",
     "output_type": "stream",
     "text": [
      "# packages in environment at /home/michael/.conda/envs/test:\r\n",
      "#\r\n",
      "curl                      7.54.1                        0  \r\n",
      "expat                     2.1.0                         0  \r\n",
      "git                       2.14.2                        0    conda-forge\r\n",
      "krb5                      1.13.2                        0  \r\n",
      "libiconv                  1.14                          4    conda-forge\r\n",
      "libssh2                   1.8.0                         0  \r\n",
      "openssl                   1.0.2l                        0  \r\n",
      "zlib                      1.2.8                         3    conda-forge\r\n"
     ]
    }
   ],
   "source": [
    "!conda list -n test"
   ]
  },
  {
   "cell_type": "markdown",
   "metadata": {},
   "source": [
    "Install packages:"
   ]
  },
  {
   "cell_type": "code",
   "execution_count": 3,
   "metadata": {},
   "outputs": [
    {
     "name": "stdout",
     "output_type": "stream",
     "text": [
      "Fetching package metadata ...........\r\n",
      "Solving package specifications: .\r\n",
      "\r\n",
      "# All requested packages already installed.\r\n",
      "# packages in environment at /home/michael/.conda/envs/test:\r\n",
      "#\r\n",
      "git                       2.14.2                        0    conda-forge\r\n"
     ]
    }
   ],
   "source": [
    "!conda install -n test git"
   ]
  },
  {
   "cell_type": "markdown",
   "metadata": {},
   "source": [
    "**Want to know more?** Look at the [conda user guide](https://conda.io/docs/user-guide/overview.html)."
   ]
  },
  {
   "cell_type": "markdown",
   "metadata": {},
   "source": [
    "<a id='python'></a>\n",
    "## 2 Python\n",
    "\n",
    "Below are very basic examples of Python code. **Want to learn more?** Look at the [Python Tutorial](https://docs.python.org/3/tutorial/index.html)."
   ]
  },
  {
   "cell_type": "markdown",
   "metadata": {},
   "source": [
    "### Control flow"
   ]
  },
  {
   "cell_type": "code",
   "execution_count": 4,
   "metadata": {},
   "outputs": [
    {
     "name": "stdout",
     "output_type": "stream",
     "text": [
      "hello\n"
     ]
    }
   ],
   "source": [
    "if 1 == 1:\n",
    "    print('hello')"
   ]
  },
  {
   "cell_type": "code",
   "execution_count": 5,
   "metadata": {},
   "outputs": [
    {
     "name": "stdout",
     "output_type": "stream",
     "text": [
      "0\n",
      "1\n",
      "2\n",
      "3\n",
      "4\n"
     ]
    }
   ],
   "source": [
    "for i in range(5):\n",
    "    print(i)"
   ]
  },
  {
   "cell_type": "code",
   "execution_count": 6,
   "metadata": {},
   "outputs": [
    {
     "name": "stdout",
     "output_type": "stream",
     "text": [
      "4\n",
      "3\n"
     ]
    }
   ],
   "source": [
    "a = 4\n",
    "while a > 2:\n",
    "    print(a)\n",
    "    a -= 1"
   ]
  },
  {
   "cell_type": "markdown",
   "metadata": {},
   "source": [
    "### Data structures"
   ]
  },
  {
   "cell_type": "markdown",
   "metadata": {},
   "source": [
    "Lists are mutable, i.e. we can change the objects they store."
   ]
  },
  {
   "cell_type": "code",
   "execution_count": 7,
   "metadata": {},
   "outputs": [
    {
     "name": "stdout",
     "output_type": "stream",
     "text": [
      "[1, 2, 'hello', 3.2]\n",
      "[1, 2, 'world', 3.2]\n"
     ]
    }
   ],
   "source": [
    "a = [1, 2, 'hello', 3.2]\n",
    "print(a)\n",
    "a[2] = 'world'\n",
    "print(a)"
   ]
  },
  {
   "cell_type": "markdown",
   "metadata": {},
   "source": [
    "Tuples are not mutable."
   ]
  },
  {
   "cell_type": "code",
   "execution_count": 8,
   "metadata": {},
   "outputs": [
    {
     "data": {
      "text/plain": [
       "(1, 2, 'hello')"
      ]
     },
     "execution_count": 8,
     "metadata": {},
     "output_type": "execute_result"
    }
   ],
   "source": [
    "(1, 2, 'hello')"
   ]
  },
  {
   "cell_type": "markdown",
   "metadata": {},
   "source": [
    "Sets contain unique values."
   ]
  },
  {
   "cell_type": "code",
   "execution_count": 9,
   "metadata": {},
   "outputs": [
    {
     "name": "stdout",
     "output_type": "stream",
     "text": [
      "{1, 2, 3, 4}\n",
      "{2, 4}\n"
     ]
    }
   ],
   "source": [
    "a = {1, 2, 3, 3, 4}\n",
    "print(a)\n",
    "print(a.intersection({2, 4, 6}))"
   ]
  },
  {
   "cell_type": "markdown",
   "metadata": {},
   "source": [
    "Dictionaries map keys to values."
   ]
  },
  {
   "cell_type": "code",
   "execution_count": 10,
   "metadata": {},
   "outputs": [
    {
     "data": {
      "text/plain": [
       "2"
      ]
     },
     "execution_count": 10,
     "metadata": {},
     "output_type": "execute_result"
    }
   ],
   "source": [
    "a = {'one': 1, 'two': 2, 'three': 3}\n",
    "a['two']"
   ]
  },
  {
   "cell_type": "markdown",
   "metadata": {},
   "source": [
    "### Functions"
   ]
  },
  {
   "cell_type": "code",
   "execution_count": 11,
   "metadata": {},
   "outputs": [
    {
     "data": {
      "text/plain": [
       "5"
      ]
     },
     "execution_count": 11,
     "metadata": {},
     "output_type": "execute_result"
    }
   ],
   "source": [
    "def add(a, b):\n",
    "    return a + b\n",
    "\n",
    "add(1, 4)"
   ]
  },
  {
   "cell_type": "markdown",
   "metadata": {},
   "source": [
    "### Classes"
   ]
  },
  {
   "cell_type": "code",
   "execution_count": 12,
   "metadata": {},
   "outputs": [
    {
     "data": {
      "text/plain": [
       "30"
      ]
     },
     "execution_count": 12,
     "metadata": {},
     "output_type": "execute_result"
    }
   ],
   "source": [
    "class A:\n",
    "    d = 10\n",
    "    \n",
    "    def add(self, c):\n",
    "        return self.d + c\n",
    "\n",
    "a = A()\n",
    "a.add(20)"
   ]
  },
  {
   "cell_type": "code",
   "execution_count": 13,
   "metadata": {},
   "outputs": [
    {
     "name": "stdout",
     "output_type": "stream",
     "text": [
      "30\n",
      "-10\n"
     ]
    }
   ],
   "source": [
    "class B(A):\n",
    "    def sub(self, c):\n",
    "        return self.d - c\n",
    "\n",
    "b = B()\n",
    "print(b.add(20))\n",
    "print(b.sub(20))"
   ]
  },
  {
   "cell_type": "markdown",
   "metadata": {},
   "source": [
    "### Dynamic typing"
   ]
  },
  {
   "cell_type": "code",
   "execution_count": 14,
   "metadata": {},
   "outputs": [
    {
     "data": {
      "text/plain": [
       "'abc'"
      ]
     },
     "execution_count": 14,
     "metadata": {},
     "output_type": "execute_result"
    }
   ],
   "source": [
    "x = 1\n",
    "x = 'abc'\n",
    "x"
   ]
  },
  {
   "cell_type": "code",
   "execution_count": 15,
   "metadata": {},
   "outputs": [
    {
     "data": {
      "text/plain": [
       "'hello'"
      ]
     },
     "execution_count": 15,
     "metadata": {},
     "output_type": "execute_result"
    }
   ],
   "source": [
    "add('hel', 'lo')"
   ]
  },
  {
   "cell_type": "code",
   "execution_count": 16,
   "metadata": {},
   "outputs": [
    {
     "data": {
      "text/plain": [
       "[1, 2, 3, 4, 5]"
      ]
     },
     "execution_count": 16,
     "metadata": {},
     "output_type": "execute_result"
    }
   ],
   "source": [
    "add([1, 2], [3, 4, 5])"
   ]
  },
  {
   "cell_type": "code",
   "execution_count": 17,
   "metadata": {},
   "outputs": [
    {
     "name": "stdout",
     "output_type": "stream",
     "text": [
      "130\n",
      "120 items\n"
     ]
    }
   ],
   "source": [
    "print(int('120') + 10)\n",
    "print(str(120) + ' items')"
   ]
  },
  {
   "cell_type": "markdown",
   "metadata": {},
   "source": [
    "<a id='jupyter'></a>\n",
    "## 3 Jupyter notebooks\n",
    "\n",
    "Jupyter notebooks allow to mix text, math, code, and results (numerical or figures) in a **single document**."
   ]
  },
  {
   "cell_type": "markdown",
   "metadata": {},
   "source": [
    "### Markdown text (and Latex math)\n",
    "\n",
    "A list:\n",
    "* item\n",
    "* item\n",
    "\n",
    "Text in a paragraph. Text can be *italic*, **bold**, `verbatim`. We can define [hyperlinks](https://github.com/mdeff/ntds_2017).\n",
    "\n",
    "A numbered list:\n",
    "1. item\n",
    "1. item\n",
    "\n",
    "Some inline math: $x = \\frac12$\n",
    "\n",
    "Some display math:\n",
    "$$f(x) = \\frac{e^{-x}}{4}$$"
   ]
  },
  {
   "cell_type": "markdown",
   "metadata": {},
   "source": [
    "### Code and results"
   ]
  },
  {
   "cell_type": "code",
   "execution_count": 18,
   "metadata": {},
   "outputs": [
    {
     "data": {
      "text/plain": [
       "6.0"
      ]
     },
     "execution_count": 18,
     "metadata": {},
     "output_type": "execute_result"
    }
   ],
   "source": [
    "20 / 100 * 30"
   ]
  },
  {
   "cell_type": "markdown",
   "metadata": {},
   "source": [
    "### Inline figures"
   ]
  },
  {
   "cell_type": "code",
   "execution_count": 19,
   "metadata": {},
   "outputs": [
    {
     "data": {
      "image/png": "[encoded data removed]",
      "text/plain": [
       "<matplotlib.figure.Figure at 0x7fe066acad30>"
      ]
     },
     "metadata": {},
     "output_type": "display_data"
    }
   ],
   "source": [
    "%matplotlib inline\n",
    "import numpy as np\n",
    "import matplotlib.pyplot as plt\n",
    "y = np.random.uniform(size=100)\n",
    "plt.plot(y);"
   ]
  },
  {
   "cell_type": "markdown",
   "metadata": {},
   "source": [
    "<a id='git'></a>\n",
    "## 4 Version control with git\n",
    "\n",
    "* Decentralized: draw on black board. Make it clear that all repos are the same.\n",
    "* Commit are local. We push / pull to sync with other repos.\n",
    "* Git is often used in a centralized fashion, with github / gitlab being the syncing point for everybody. It does not have to be, but github is easier to access than my laptop.\n",
    "* **Want to learn more?** Try this [interactive guide](https://try.github.io) or look at the more involved [user manual](https://git-scm.com/docs/user-manual.html).\n",
    "\n",
    "### Basic usage\n",
    "\n",
    "1. Install with `conda install git`.\n",
    "1. Everybody make a clean clone (to be erased afterwards). Use HTTPS if not logged in.\n",
    "1. I add a fake file.\n",
    "1. I commit. It's not on github.\n",
    "1. I push. It is on github.\n",
    "1. They pull. They see it on their machines.\n",
    "\n",
    "Two kinds of users:\n",
    "* Those who don't want to learn git, just do `git pull` before every lab. **Do not modify the content of the folder.** That is like your inbox, you only copy files from there and modify them outside.\n",
    "* The power users make a branch for each of their solutions!\n",
    "\n",
    "### Power users\n",
    "\n",
    "* Make a branch: `git branch ass1_my_solution`\n",
    "* Work on that branch: `git checkout ass1_my_solution`\n",
    "* Do and commit your modifications. You get an history of your changes!\n",
    "* Come back to master with `git checkout master` and get new stuff from the TAs with `git pull`. Again, you should never modify master (you could do it locally, but only the TAs have write access to the github repo).\n",
    "\n",
    "### Super-power users\n",
    "\n",
    "Those who want to backup or share their work on github.\n",
    "\n",
    "1. Create a github account.\n",
    "1. Create a repository (you could have forked mdeff/ntds_2017).\n",
    "1. Add a remote repo: `git remote add my_repo git@github.com:username/ntds_2017.git`\n",
    "1. Push your own branches to your repo: `git push -u my_repo ass1_my_solution`.\n",
    "1. Go on your github and see your changes.\n",
    "\n",
    "### Contributors\n",
    "\n",
    "* Same as before, except you can now make a pull request for your changes to be integrated into master and be available to all of us.\n",
    "\n",
    "### Collaborate with git and github\n",
    "\n",
    "We'll come back to this when we'll start working on the projects."
   ]
  },
  {
   "cell_type": "markdown",
   "metadata": {},
   "source": [
    "<a id='scipy'></a>\n",
    "## 5 Scientific Python\n",
    "\n",
    "Below are the basic packages used for scientific computing and data science. We'll introduce them as needed during the following tutorials.\n",
    "* [NumPy](http://www.numpy.org): N-dimensional arrays\n",
    "* [SciPy](https://www.scipy.org/scipylib/index.html): scientific computing\n",
    "* [matplotlib](https://matplotlib.org): powerful visualization\n",
    "* [pandas](https://pandas.pydata.org): data analysis\n",
    "\n",
    "**Want to learn more?** Look at the [Scipy Lecture Notes](http://www.scipy-lectures.org/).\n",
    "\n",
    "Finally, the below packages will be useful to work with networks and graphs.\n",
    "* [NetworkX](https://networkx.github.io): network science\n",
    "* [graph-tool](https://graph-tool.skewed.de): network science\n",
    "* [PyGSP](https://github.com/epfl-lts2/pygsp): graph signal processing"
   ]
  }
 ],
 "metadata": {},
 "nbformat": 4,
 "nbformat_minor": 2
}
